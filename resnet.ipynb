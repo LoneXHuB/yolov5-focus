{
 "cells": [
  {
   "cell_type": "code",
   "execution_count": 1,
   "metadata": {},
   "outputs": [
    {
     "name": "stderr",
     "output_type": "stream",
     "text": [
      "C:\\Users\\kheli\\AppData\\Local\\Programs\\Python\\Python39\\Lib\\site-packages\\tqdm\\auto.py:22: TqdmWarning: IProgress not found. Please update jupyter and ipywidgets. See https://ipywidgets.readthedocs.io/en/stable/user_install.html\n",
      "  from .autonotebook import tqdm as notebook_tqdm\n"
     ]
    }
   ],
   "source": [
    "# -*- coding: utf-8 -*-\n",
    "\"\"\"\n",
    "From scratch implementation of the famous ResNet models.\n",
    "The intuition for ResNet is simple and clear, but to code\n",
    "it didn't feel super clear at first, even when reading Pytorch own\n",
    "implementation. \n",
    "\n",
    "Video explanation: \n",
    "Got any questions leave a comment on youtube :)\n",
    "\n",
    "Programmed by Aladdin Persson <aladdin.persson at hotmail dot com>\n",
    "*    2020-04-12 Initial coding\n",
    "\"\"\"\n",
    "\n",
    "import torch\n",
    "import torch.nn as nn\n",
    "\n",
    "\n",
    "class block(nn.Module):\n",
    "    def __init__(\n",
    "        self, in_channels, intermediate_channels, identity_downsample=None, stride=1\n",
    "    ):\n",
    "        super(block, self).__init__()\n",
    "        self.expansion = 4\n",
    "        self.conv1 = nn.Conv2d(\n",
    "            in_channels, intermediate_channels, kernel_size=1, stride=1, padding=0, bias=False\n",
    "        )\n",
    "        self.bn1 = nn.BatchNorm2d(intermediate_channels)\n",
    "        self.conv2 = nn.Conv2d(\n",
    "            intermediate_channels,\n",
    "            intermediate_channels,\n",
    "            kernel_size=3,\n",
    "            stride=stride,\n",
    "            padding=1,\n",
    "            bias=False\n",
    "        )\n",
    "        self.bn2 = nn.BatchNorm2d(intermediate_channels)\n",
    "        self.conv3 = nn.Conv2d(\n",
    "            intermediate_channels,\n",
    "            intermediate_channels * self.expansion,\n",
    "            kernel_size=1,\n",
    "            stride=1,\n",
    "            padding=0,\n",
    "            bias=False\n",
    "        )\n",
    "        self.bn3 = nn.BatchNorm2d(intermediate_channels * self.expansion)\n",
    "        self.relu = nn.ReLU()\n",
    "        self.identity_downsample = identity_downsample\n",
    "        self.stride = stride\n",
    "\n",
    "    def forward(self, x):\n",
    "        identity = x.clone()\n",
    "\n",
    "        x = self.conv1(x)\n",
    "        x = self.bn1(x)\n",
    "        x = self.relu(x)\n",
    "        x = self.conv2(x)\n",
    "        x = self.bn2(x)\n",
    "        x = self.relu(x)\n",
    "        x = self.conv3(x)\n",
    "        x = self.bn3(x)\n",
    "\n",
    "        if self.identity_downsample is not None:\n",
    "            identity = self.identity_downsample(identity)\n",
    "\n",
    "        x += identity\n",
    "        x = self.relu(x)\n",
    "        return x\n",
    "\n",
    "\n",
    "class ResNet(nn.Module):\n",
    "    def __init__(self, block, layers, image_channels, num_classes):\n",
    "        super(ResNet, self).__init__()\n",
    "        self.in_channels = 64\n",
    "        self.conv1 = nn.Conv2d(image_channels, 64, kernel_size=7, stride=2, padding=3, bias=False)\n",
    "        self.bn1 = nn.BatchNorm2d(64)\n",
    "        self.relu = nn.ReLU()\n",
    "        self.maxpool = nn.MaxPool2d(kernel_size=3, stride=2, padding=1)\n",
    "\n",
    "        # Essentially the entire ResNet architecture are in these 4 lines below\n",
    "        self.layer1 = self._make_layer(\n",
    "            block, layers[0], intermediate_channels=64, stride=1\n",
    "        )\n",
    "        self.layer2 = self._make_layer(\n",
    "            block, layers[1], intermediate_channels=128, stride=2\n",
    "        )\n",
    "        self.layer3 = self._make_layer(\n",
    "            block, layers[2], intermediate_channels=256, stride=2\n",
    "        )\n",
    "        self.layer4 = self._make_layer(\n",
    "            block, layers[3], intermediate_channels=512, stride=2\n",
    "        )\n",
    "\n",
    "        self.avgpool = nn.AdaptiveAvgPool2d((1, 1))\n",
    "        self.fc = nn.Linear(512 * 4, num_classes)\n",
    "\n",
    "    def forward(self, x):\n",
    "        x = self.conv1(x)\n",
    "        x = self.bn1(x)\n",
    "        x = self.relu(x)\n",
    "        x = self.maxpool(x)\n",
    "        x = self.layer1(x)\n",
    "        x = self.layer2(x)\n",
    "        x = self.layer3(x)\n",
    "        x = self.layer4(x)\n",
    "\n",
    "        x = self.avgpool(x)\n",
    "        x = x.reshape(x.shape[0], -1)\n",
    "        x = self.fc(x)\n",
    "\n",
    "        return x\n",
    "\n",
    "    def _make_layer(self, block, num_residual_blocks, intermediate_channels, stride):\n",
    "        identity_downsample = None\n",
    "        layers = []\n",
    "\n",
    "        # Either if we half the input space for ex, 56x56 -> 28x28 (stride=2), or channels changes\n",
    "        # we need to adapt the Identity (skip connection) so it will be able to be added\n",
    "        # to the layer that's ahead\n",
    "        if stride != 1 or self.in_channels != intermediate_channels * 4:\n",
    "            identity_downsample = nn.Sequential(\n",
    "                nn.Conv2d(\n",
    "                    self.in_channels,\n",
    "                    intermediate_channels * 4,\n",
    "                    kernel_size=1,\n",
    "                    stride=stride,\n",
    "                    bias=False\n",
    "                ),\n",
    "                nn.BatchNorm2d(intermediate_channels * 4),\n",
    "            )\n",
    "\n",
    "        layers.append(\n",
    "            block(self.in_channels, intermediate_channels, identity_downsample, stride)\n",
    "        )\n",
    "\n",
    "        # The expansion size is always 4 for ResNet 50,101,152\n",
    "        self.in_channels = intermediate_channels * 4\n",
    "\n",
    "        # For example for first resnet layer: 256 will be mapped to 64 as intermediate layer,\n",
    "        # then finally back to 256. Hence no identity downsample is needed, since stride = 1,\n",
    "        # and also same amount of channels.\n",
    "        for i in range(num_residual_blocks - 1):\n",
    "            layers.append(block(self.in_channels, intermediate_channels))\n",
    "\n",
    "        return nn.Sequential(*layers)\n",
    "\n",
    "\n",
    "def ResNet50(img_channel=3, num_classes=1000):\n",
    "    return ResNet(block, [3, 4, 6, 3], img_channel, num_classes)\n",
    "\n",
    "\n",
    "def ResNet101(img_channel=3, num_classes=1000):\n",
    "    return ResNet(block, [3, 4, 23, 3], img_channel, num_classes)\n",
    "\n",
    "\n",
    "def ResNet152(img_channel=3, num_classes=1000):\n",
    "    return ResNet(block, [3, 8, 36, 3], img_channel, num_classes)"
   ]
  },
  {
   "cell_type": "code",
   "execution_count": 11,
   "metadata": {},
   "outputs": [
    {
     "name": "stdout",
     "output_type": "stream",
     "text": [
      "epoch : 0 \t\n"
     ]
    },
    {
     "name": "stderr",
     "output_type": "stream",
     "text": [
      "100%|██████████| 8/8 [00:02<00:00,  3.00it/s]\n"
     ]
    },
    {
     "name": "stdout",
     "output_type": "stream",
     "text": [
      "epoch : 1 \t\n"
     ]
    },
    {
     "name": "stderr",
     "output_type": "stream",
     "text": [
      "100%|██████████| 8/8 [00:02<00:00,  3.02it/s]\n"
     ]
    },
    {
     "name": "stdout",
     "output_type": "stream",
     "text": [
      "epoch : 2 \t\n"
     ]
    },
    {
     "name": "stderr",
     "output_type": "stream",
     "text": [
      "100%|██████████| 8/8 [00:02<00:00,  3.13it/s]\n"
     ]
    },
    {
     "name": "stdout",
     "output_type": "stream",
     "text": [
      "epoch : 3 \t\n"
     ]
    },
    {
     "name": "stderr",
     "output_type": "stream",
     "text": [
      "100%|██████████| 8/8 [00:02<00:00,  3.08it/s]\n"
     ]
    },
    {
     "name": "stdout",
     "output_type": "stream",
     "text": [
      "epoch : 4 \t\n"
     ]
    },
    {
     "name": "stderr",
     "output_type": "stream",
     "text": [
      "100%|██████████| 8/8 [00:02<00:00,  3.09it/s]\n"
     ]
    },
    {
     "name": "stdout",
     "output_type": "stream",
     "text": [
      "epoch : 5 \t\n"
     ]
    },
    {
     "name": "stderr",
     "output_type": "stream",
     "text": [
      "100%|██████████| 8/8 [00:02<00:00,  3.05it/s]\n"
     ]
    },
    {
     "name": "stdout",
     "output_type": "stream",
     "text": [
      "epoch : 6 \t\n"
     ]
    },
    {
     "name": "stderr",
     "output_type": "stream",
     "text": [
      "100%|██████████| 8/8 [00:02<00:00,  3.08it/s]\n"
     ]
    },
    {
     "name": "stdout",
     "output_type": "stream",
     "text": [
      "epoch : 7 \t\n"
     ]
    },
    {
     "name": "stderr",
     "output_type": "stream",
     "text": [
      "100%|██████████| 8/8 [00:02<00:00,  3.08it/s]\n"
     ]
    },
    {
     "name": "stdout",
     "output_type": "stream",
     "text": [
      "epoch : 8 \t\n"
     ]
    },
    {
     "name": "stderr",
     "output_type": "stream",
     "text": [
      "100%|██████████| 8/8 [00:02<00:00,  3.08it/s]\n"
     ]
    },
    {
     "name": "stdout",
     "output_type": "stream",
     "text": [
      "epoch : 9 \t\n"
     ]
    },
    {
     "name": "stderr",
     "output_type": "stream",
     "text": [
      "100%|██████████| 8/8 [00:02<00:00,  3.07it/s]\n"
     ]
    },
    {
     "name": "stdout",
     "output_type": "stream",
     "text": [
      "epoch : 10 \t\n"
     ]
    },
    {
     "name": "stderr",
     "output_type": "stream",
     "text": [
      "100%|██████████| 8/8 [00:02<00:00,  3.07it/s]\n"
     ]
    },
    {
     "name": "stdout",
     "output_type": "stream",
     "text": [
      "epoch : 11 \t\n"
     ]
    },
    {
     "name": "stderr",
     "output_type": "stream",
     "text": [
      " 88%|████████▊ | 7/8 [00:02<00:00,  2.96it/s]"
     ]
    }
   ],
   "source": [
    "# Imports\n",
    "import torch\n",
    "import torchvision # torch package for vision related things\n",
    "import torch.nn.functional as F  # Parameterless functions, like (some) activation functions\n",
    "import torchvision.datasets as datasets  # Standard datasets\n",
    "import torchvision.transforms as transforms  # Transformations we can perform on our dataset for augmentation\n",
    "from torch import optim  # For optimizers like SGD, Adam, etc.\n",
    "from torch import nn  # All neural network modules\n",
    "from torch.utils.data import DataLoader  # Gives easier dataset managment by creating mini batches etc.\n",
    "from tqdm import tqdm  # For nice progress bar!\n",
    "\n",
    "# Set device\n",
    "device = torch.device(\"cuda\" if torch.cuda.is_available() else \"cpu\")\n",
    "\n",
    "# Hyperparameters\n",
    "in_channels = 3\n",
    "num_classes = 3\n",
    "learning_rate = 0.001\n",
    "batch_size = 1\n",
    "num_epochs = 200\n",
    "\n",
    "# Load Data\n",
    "data_dir = '../proof-data/proof-data-rex'\n",
    "train_dir = data_dir + '/train'\n",
    "valid_dir = data_dir + '/val'\n",
    "test_dir = data_dir + '/val'\n",
    "\n",
    "# Transforms for the training, validation, and testing sets\n",
    "training_transforms, validation_transforms, testing_transforms = data_transforms()\n",
    "\n",
    "# Load the datasets with ImageFolder\n",
    "training_dataset, validation_dataset, testing_dataset = load_datasets(train_dir, training_transforms, valid_dir, validation_transforms, test_dir, testing_transforms)\n",
    "\n",
    "# Using the image datasets and the trainforms, define the dataloaders\n",
    "train_loader = torch.utils.data.DataLoader(training_dataset, batch_size=32, shuffle=True)\n",
    "validate_loader = torch.utils.data.DataLoader(validation_dataset, batch_size=32)\n",
    "test_loader = torch.utils.data.DataLoader(testing_dataset, batch_size=32)\n",
    "\n",
    "# Initialize network\n",
    "model = ResNet50(in_channels,num_classes).to(device)\n",
    "# Loss and optimizer\n",
    "criterion = nn.CrossEntropyLoss()\n",
    "optimizer = optim.Adam(model.parameters(), lr=learning_rate)\n",
    "\n",
    "# Train Network\n",
    "for epoch in range(num_epochs):\n",
    "    print(f\"epoch : {epoch} \\t\")\n",
    "    for batch_idx, (data, targets) in enumerate(tqdm(train_loader)):\n",
    "        # Get data to cuda if possible\n",
    "        data = data.to(device=device)\n",
    "        targets = targets.to(device=device)\n",
    "\n",
    "        # forward\n",
    "        scores = model(data)\n",
    "        loss = criterion(scores, targets)\n",
    "\n",
    "        # backward\n",
    "        optimizer.zero_grad()\n",
    "        loss.backward()\n",
    "\n",
    "        # gradient descent or adam step\n",
    "        optimizer.step()\n",
    "\n",
    "# Check accuracy on training & test to see how good our model\n",
    "def check_accuracy(loader, model):\n",
    "    num_correct = 0\n",
    "    num_samples = 0\n",
    "    model.eval()\n",
    "\n",
    "    with torch.no_grad():\n",
    "        for x, y in loader:\n",
    "            x = x.to(device=device)\n",
    "            y = y.to(device=device)\n",
    "\n",
    "            scores = model(x)\n",
    "            _, predictions = scores.max(1)\n",
    "            num_correct += (predictions == y).sum()\n",
    "            num_samples += predictions.size(0)\n",
    "\n",
    "\n",
    "    model.train()\n",
    "    return num_correct/num_samples\n",
    "\n",
    "\n",
    "print(f\"Accuracy on training set: {check_accuracy(train_loader, model)*100:.2f}\")\n",
    "print(f\"Accuracy on test set: {check_accuracy(test_loader, model)*100:.2f}\")\n",
    "\n",
    "PATH = \"models/rexnet/rexnet50-3ch3-proof.pt\"\n",
    "print(\"Saving mode ... \")\n",
    "torch.save(model.state_dict(), PATH)\n",
    "print(f\"Saved at : {PATH}\")"
   ]
  },
  {
   "cell_type": "code",
   "execution_count": 4,
   "metadata": {},
   "outputs": [
    {
     "name": "stdout",
     "output_type": "stream",
     "text": [
      "Saving model ... \n",
      "Saved at : models/rexnet/rexnet-3ch2.pt\n"
     ]
    }
   ],
   "source": [
    "PATH = \"models/rexnet/rexnet-3ch2.pt\"\n",
    "print(\"Saving model ... \")\n",
    "torch.save(model.state_dict(), PATH)\n",
    "print(f\"Saved at : {PATH}\")"
   ]
  },
  {
   "cell_type": "code",
   "execution_count": 8,
   "metadata": {},
   "outputs": [
    {
     "name": "stdout",
     "output_type": "stream",
     "text": [
      "rexnet model loaded!\n"
     ]
    }
   ],
   "source": [
    "PATH = \"models/rexnet/rexnet50-3ch3-proof.pt\"\n",
    "mdl = ResNet50(img_channel=3,num_classes=3)\n",
    "model = torch.load(PATH)\n",
    "mdl.load_state_dict(model)\n",
    "mdl.eval()\n",
    "mdl = mdl.to('cuda')\n",
    "print('rexnet model loaded!')"
   ]
  },
  {
   "cell_type": "code",
   "execution_count": 6,
   "metadata": {},
   "outputs": [
    {
     "data": {
      "image/png": "[encoded data removed]",
      "text/plain": [
       "<PIL.Image.Image image mode=RGB size=256x256>"
      ]
     },
     "metadata": {},
     "output_type": "display_data"
    },
    {
     "name": "stdout",
     "output_type": "stream",
     "text": [
      "im shape : torch.Size([3, 256, 256])\n",
      "im shape : torch.Size([3, 256, 256])\n",
      "tensor([2], device='cuda:0')\n",
      "['10ml', '1ml', '20ml', '3ml', '5ml', '60ml', '6ml', 'cap']\n",
      "\n"
     ]
    },
    {
     "data": {
      "text/plain": [
       "'20ml'"
      ]
     },
     "execution_count": 6,
     "metadata": {},
     "output_type": "execute_result"
    }
   ],
   "source": [
    "import cv2\n",
    "import numpy as np\n",
    "from torchvision import transforms\n",
    "import torch\n",
    "import rexTransform as rex\n",
    "\n",
    "from PIL import Image\n",
    "im = Image.open(\"cutout1.jpg\")\n",
    "im = im.convert(\"RGB\")\n",
    "\n",
    "display(im)\n",
    "#im = im[:, :, ::-1].transpose(2, 0, 1)  # BGR to RGB, to 3x416x416\n",
    "#im = np.ascontiguousarray(im, dtype=np.float32)  # uint8 to float32\n",
    "testing_transforms = transforms.Compose([transforms.Resize((256,256)),\n",
    "                                             transforms.ToTensor(),\n",
    "                                             rex.Normalize(by=255)]\n",
    "                                             )\n",
    "\n",
    "\n",
    "#im = im[:, :, ::-1].transpose(2, 0, 1)  # BGR to RGB, to 3x416x416\n",
    "im = testing_transforms(im)\n",
    "\n",
    "\n",
    "print(f\"im shape : {im.shape}\")\n",
    "pth = \"cutout2_trans.jpg\"\n",
    "print(f\"im shape : {im.shape}\")\n",
    "\n",
    "im = np.ascontiguousarray(im, dtype=np.float32)  # uint8 to float32\n",
    "im = im[None,...]\n",
    "im = torch.tensor(im)\n",
    "mdl.eval()\n",
    "im = im.to('cuda')\n",
    "\n",
    "scores = mdl(im)\n",
    "_ , predictions = scores.max(1)\n",
    "\n",
    "print(predictions)\n",
    "print(test_loader.dataset.classes)\n",
    "print()\n",
    "test_loader.dataset.classes[predictions]"
   ]
  },
  {
   "cell_type": "code",
   "execution_count": 7,
   "metadata": {},
   "outputs": [
    {
     "name": "stdout",
     "output_type": "stream",
     "text": [
      "model pred\n",
      "tensor([6], device='cuda:0')\n",
      "predictions: tensor([6, 6, 6, 1, 1, 5, 2, 3, 3, 5, 5, 3, 7], device='cuda:0')\n",
      "[['../crops/test\\\\1ml\\\\WIN_20220618_12_44_56_Pro.jpg' '1']\n",
      " ['../crops/test\\\\1ml\\\\WIN_20220618_12_45_07_Pro.jpg' '1']\n",
      " ['../crops/test\\\\20ml\\\\WIN_20220618_12_48_12_Pro.jpg' '2']\n",
      " ['../crops/test\\\\3ml\\\\WIN_20220618_12_45_41_Pro.jpg' '3']\n",
      " ['../crops/test\\\\60ml\\\\WIN_20220618_12_49_12_Pro.jpg' '5']\n",
      " ['../crops/test\\\\60ml\\\\WIN_20220618_12_49_15_Pro.jpg' '5']\n",
      " ['../crops/test\\\\cap\\\\WIN_20220618_12_45_03_Pro.jpg' '7']]\n",
      "Accuracy on test set: 53.85\n"
     ]
    }
   ],
   "source": [
    "from operator import index\n",
    "\n",
    "comp = Image.open(\"../crops/test\\\\10ml\\\\WIN_20220618_12_47_28_Pro.jpg\")\n",
    "comp = comp.convert(\"RGB\")\n",
    "comp = testing_transforms(comp)\n",
    "\n",
    "def check_accuracy(loader, model):\n",
    "    num_correct = 0\n",
    "    num_samples = 0\n",
    "    model.eval()\n",
    "    with torch.no_grad():\n",
    "        for x, y in loader:\n",
    "            x = x.to(device=device)\n",
    "            y = y.to(device=device)\n",
    "            \n",
    "            #print((comp - x[0]).mean())\n",
    "            ##print((im[0] - x[0]).mean())\n",
    "            print(\"model pred\")\n",
    "            print(model(x[None,0]).max(1)[1])\n",
    "            scores = model(x)\n",
    "            _, predictions = scores.max(1)\n",
    "\n",
    "            \n",
    "            print(f\"predictions: {predictions}\")\n",
    "\n",
    "            num_correct += (predictions == y).sum()\n",
    "            num_samples += predictions.size(0)\n",
    "            indexs = (predictions == y).detach().cpu().numpy()\n",
    "            print(np.array(loader.dataset.imgs)[indexs])\n",
    "\n",
    "\n",
    "\n",
    "\n",
    "    model.train()\n",
    "    return num_correct/num_samples\n",
    "\n",
    "# Load Data\n",
    "data_dir = '../crops'\n",
    "train_dir = data_dir + '/train'\n",
    "valid_dir = data_dir + '/valid'\n",
    "test_dir = data_dir + '/test'\n",
    "\n",
    "# Transforms for the training, validation, and testing sets\n",
    "training_transforms, validation_transforms, testing_transforms = data_transforms()\n",
    "\n",
    "# Load the datasets with ImageFolder\n",
    "training_dataset, validation_dataset, testing_dataset = load_datasets(train_dir, training_transforms, valid_dir, validation_transforms, test_dir, testing_transforms)\n",
    "\n",
    "\n",
    "test_loader = torch.utils.data.DataLoader(testing_dataset, batch_size=27)\n",
    "\n",
    "\n",
    "# Set device\n",
    "device = torch.device(\"cuda\" if torch.cuda.is_available() else \"cpu\")\n",
    "\n",
    "\n",
    "print(f\"Accuracy on test set: {check_accuracy(test_loader, mdl.to(device))*100:.2f}\")\n"
   ]
  },
  {
   "cell_type": "code",
   "execution_count": 7,
   "metadata": {},
   "outputs": [
    {
     "data": {
      "text/plain": [
       "('../crops/train\\\\cap\\\\WIN_20220618_12_49_12_Pro.jpg', 7)"
      ]
     },
     "execution_count": 7,
     "metadata": {},
     "output_type": "execute_result"
    }
   ],
   "source": [
    "training_dataset.imgs.pop()"
   ]
  },
  {
   "cell_type": "code",
   "execution_count": 6,
   "metadata": {},
   "outputs": [],
   "source": [
    "import numpy as np\n",
    "import pandas as pd\n",
    "import matplotlib.pyplot as plt\n",
    "import seaborn as sb\n",
    "\n",
    "from PIL import Image\n",
    "import json\n",
    "\n",
    "import torch\n",
    "from torch import nn\n",
    "from torch import optim\n",
    "import torch.nn.functional as F\n",
    "from torchvision import datasets, transforms, models\n",
    "from torch.utils.data import Dataset\n",
    "import rexTransform as rex\n",
    "\n",
    "\n",
    "\n",
    "# Define transforms for the training, validation, and testing sets\n",
    "def data_transforms():\n",
    "    training_transforms = transforms.Compose([transforms.Resize((224,224)),\n",
    "                                              #transforms.RandomRotation(30),\n",
    "                                              #transforms.RandomResizedCrop(224),\n",
    "                                              #transforms.RandomHorizontalFlip(),\n",
    "                                              transforms.ToTensor(),\n",
    "                                              rex.Normalize(by=255)])\n",
    "\n",
    "    validation_transforms = transforms.Compose([transforms.Resize((224,224)),\n",
    "                                                #transforms.CenterCrop(224),\n",
    "                                                transforms.ToTensor(),\n",
    "                                                rex.Normalize(by=255)])\n",
    "\n",
    "    testing_transforms = transforms.Compose([transforms.Resize((256,256)),\n",
    "                                             #transforms.CenterCrop(224),\n",
    "                                             transforms.ToTensor(),\n",
    "                                             rex.Normalize(by=255)]\n",
    "                                             )\n",
    "    \n",
    "    return training_transforms, validation_transforms, testing_transforms\n",
    "\n",
    "# Load the datasets with ImageFolder\n",
    "def load_datasets(train_dir, training_transforms, valid_dir, validation_transforms, test_dir, testing_transforms):\n",
    "    training_dataset = datasets.ImageFolder(train_dir, transform=training_transforms)\n",
    "    validation_dataset = datasets.ImageFolder(valid_dir, transform=validation_transforms)\n",
    "    testing_dataset = datasets.ImageFolder(test_dir, transform=testing_transforms)\n",
    "    \n",
    "    return training_dataset, validation_dataset, testing_dataset\n",
    "    \n",
    "\n",
    "# Hyperparameters\n",
    "in_channels = 3\n",
    "num_classes = 3\n",
    "learning_rate = 0.001\n",
    "batch_size = 1\n",
    "num_epochs = 200\n",
    "\n",
    "# Load Data\n",
    "data_dir = '../crops'\n",
    "train_dir = data_dir + '/train'\n",
    "valid_dir = data_dir + '/valid'\n",
    "test_dir = data_dir + '/test'\n",
    "# Transforms for the training, validation, and testing sets\n",
    "training_transforms, validation_transforms, testing_transforms = data_transforms()\n",
    "\n",
    "# Load the datasets with ImageFolder\n",
    "training_dataset, validation_dataset, testing_dataset = load_datasets(train_dir, training_transforms, valid_dir, validation_transforms, test_dir, testing_transforms)\n",
    "\n",
    "# Using the image datasets and the trainforms, define the dataloaders\n",
    "train_loader = torch.utils.data.DataLoader(training_dataset, batch_size=32, shuffle=True)\n",
    "validate_loader = torch.utils.data.DataLoader(validation_dataset, batch_size=32)\n",
    "test_loader = torch.utils.data.DataLoader(testing_dataset, batch_size=32)\n",
    "\n",
    "\n",
    "# Function for processing a PIL image for use in the PyTorch model\n",
    "def process_image(image_path, hidden_size):\n",
    "    ''' Scales, crops, and normalizes a PIL image for a PyTorch model,\n",
    "        returns an Numpy array\n",
    "    '''\n",
    "    \n",
    "    pil_image = Image.open(image_path)\n",
    "    \n",
    "    # Resize\n",
    "    if pil_image.size[0] > pil_image.size[1]:\n",
    "        pil_image.thumbnail((hidden_size, 256))\n",
    "    else:\n",
    "        pil_image.thumbnail((256, hidden_size))\n",
    "        \n",
    "    # Crop \n",
    "    left_margin = (pil_image.width-224)/2\n",
    "    bottom_margin = (pil_image.height-224)/2\n",
    "    right_margin = left_margin + 224\n",
    "    top_margin = bottom_margin + 224\n",
    "    \n",
    "    pil_image = pil_image.crop((left_margin, bottom_margin, right_margin, top_margin))\n",
    "    \n",
    "    # Normalize\n",
    "    np_image = np.array(pil_image)/255\n",
    "    mean = np.array([0.485])\n",
    "    std = np.array([0.229, 0.224, 0.225])\n",
    "    np_image = (np_image - mean) / std\n",
    "    \n",
    "    # PyTorch expects the color channel to be the first dimension but it's the third dimension in the PIL image and Numpy array\n",
    "    # Color channel needs to be first; retain the order of the other two dimensions.\n",
    "    np_image = np_image.transpose((2, 0, 1))\n",
    "    \n",
    "    return np_image\n",
    "\n",
    "\n",
    "# Function to convert a PyTorch tensor and display it\n",
    "def imshow(image, ax=None, title=None):\n",
    "    if ax is None:\n",
    "        fig, ax = plt.subplots()\n",
    "    \n",
    "    # PyTorch tensors assume the color channel is the first dimension\n",
    "    # but matplotlib assumes is the third dimension\n",
    "    image = image.transpose((1, 2, 0))\n",
    "    \n",
    "    # Undo preprocessing\n",
    "    mean = np.array([0.485, 0.456, 0.406])\n",
    "    std = np.array([0.229, 0.224, 0.225])\n",
    "    image = std * image + mean\n",
    "    \n",
    "    if title is not None:\n",
    "        ax.set_title(title)\n",
    "    \n",
    "    # Image needs to be clipped between 0 and 1 or it looks like noise when displayed\n",
    "    image = np.clip(image, 0, 1)\n",
    "    \n",
    "    ax.imshow(image)\n",
    "    \n",
    "    return ax\n",
    "\n",
    "\n",
    "# Load class_to_name json file \n",
    "def load_json(json_file):\n",
    "    \n",
    "    with open(json_file, 'r') as f:\n",
    "        flower_to_name = json.load(f)\n",
    "        return flower_to_name\n",
    "    \n",
    "    \n",
    "# Function to display an image along with the top 5 classes\n",
    "def display_image(image_dir, flower_to_name, classes):\n",
    "\n",
    "    # Plot flower input image\n",
    "    plt.figure(figsize = (6,10))\n",
    "    plot_1 = plt.subplot(2,1,1)\n",
    "\n",
    "    image = process_image(image_dir)\n",
    "    \n",
    "    key = image_dir.split('/')[-2]\n",
    "\n",
    "    flower_title = flower_to_name[key]\n",
    "\n",
    "    imshow(image, plot_1, title=flower_title);\n",
    "\n",
    "    # Convert from the class integer encoding to actual flower names\n",
    "    flower_names = [flower_to_name[i] for i in classes]\n",
    "\n",
    "    # Plot the probabilities for the top 5 classes as a bar graph\n",
    "    plt.subplot(2,1,2)\n",
    "\n",
    "    sb.barplot(x=probs, y=flower_names, color=sb.color_palette()[0]);\n",
    "\n",
    "    plt.show()\n"
   ]
  },
  {
   "cell_type": "code",
   "execution_count": 8,
   "metadata": {},
   "outputs": [],
   "source": [
    "data_dir = '../flowers'\n",
    "train_dir = data_dir + '/train'\n",
    "valid_dir = data_dir + '/valid'\n",
    "test_dir = data_dir + '/test'\n",
    "\n",
    "# Transforms for the training, validation, and testing sets\n",
    "training_transforms, validation_transforms, testing_transforms = data_transforms()\n",
    "\n",
    "# Load the datasets with ImageFolder\n",
    "training_dataset, validation_dataset, testing_dataset = load_datasets(train_dir, training_transforms, valid_dir, validation_transforms, test_dir, testing_transforms)\n",
    "\n",
    "# Using the image datasets and the trainforms, define the dataloaders\n",
    "train_loader = torch.utils.data.DataLoader(training_dataset, batch_size=64, shuffle=True)\n",
    "validate_loader = torch.utils.data.DataLoader(validation_dataset, batch_size=32)\n",
    "test_loader = torch.utils.data.DataLoader(testing_dataset, batch_size=32)"
   ]
  }
 ],
 "metadata": {
  "kernelspec": {
   "display_name": "Python 3.9.7 64-bit",
   "language": "python",
   "name": "python3"
  },
  "language_info": {
   "codemirror_mode": {
    "name": "ipython",
    "version": 3
   },
   "file_extension": ".py",
   "mimetype": "text/x-python",
   "name": "python",
   "nbconvert_exporter": "python",
   "pygments_lexer": "ipython3",
   "version": "3.9.7"
  },
  "orig_nbformat": 4,
  "vscode": {
   "interpreter": {
    "hash": "7e2510d84d26031da47006d03516b7ccf6b660b281f76140831a0a6d1581fe5b"
   }
  }
 },
 "nbformat": 4,
 "nbformat_minor": 2
}
